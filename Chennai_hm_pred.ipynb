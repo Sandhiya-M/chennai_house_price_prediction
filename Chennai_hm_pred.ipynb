{
 "cells": [
  {
   "cell_type": "code",
   "execution_count": 1,
   "id": "0f7596b9",
   "metadata": {},
   "outputs": [],
   "source": [
    "from sklearn.linear_model import LinearRegression\n",
    "import matplotlib.pyplot as plt\n",
    "import pandas as pd\n",
    "import numpy  as np\n",
    "from sklearn.model_selection import train_test_split\n",
    "%matplotlib inline"
   ]
  },
  {
   "cell_type": "code",
   "execution_count": 2,
   "id": "244d0b8b",
   "metadata": {
    "scrolled": true
   },
   "outputs": [
    {
     "data": {
      "text/html": [
       "<div>\n",
       "<style scoped>\n",
       "    .dataframe tbody tr th:only-of-type {\n",
       "        vertical-align: middle;\n",
       "    }\n",
       "\n",
       "    .dataframe tbody tr th {\n",
       "        vertical-align: top;\n",
       "    }\n",
       "\n",
       "    .dataframe thead th {\n",
       "        text-align: right;\n",
       "    }\n",
       "</style>\n",
       "<table border=\"1\" class=\"dataframe\">\n",
       "  <thead>\n",
       "    <tr style=\"text-align: right;\">\n",
       "      <th></th>\n",
       "      <th>price</th>\n",
       "      <th>area</th>\n",
       "      <th>status</th>\n",
       "      <th>bhk</th>\n",
       "      <th>bathroom</th>\n",
       "      <th>age</th>\n",
       "      <th>location</th>\n",
       "      <th>builder</th>\n",
       "    </tr>\n",
       "  </thead>\n",
       "  <tbody>\n",
       "    <tr>\n",
       "      <th>0</th>\n",
       "      <td>37.49</td>\n",
       "      <td>872</td>\n",
       "      <td>Ready to move</td>\n",
       "      <td>2</td>\n",
       "      <td>NaN</td>\n",
       "      <td>1.0</td>\n",
       "      <td>Sembakkam</td>\n",
       "      <td>MP Developers</td>\n",
       "    </tr>\n",
       "    <tr>\n",
       "      <th>1</th>\n",
       "      <td>93.54</td>\n",
       "      <td>1346</td>\n",
       "      <td>Under Construction</td>\n",
       "      <td>3</td>\n",
       "      <td>2.0</td>\n",
       "      <td>NaN</td>\n",
       "      <td>Selaiyur</td>\n",
       "      <td>DAC Promoters</td>\n",
       "    </tr>\n",
       "    <tr>\n",
       "      <th>2</th>\n",
       "      <td>151.00</td>\n",
       "      <td>2225</td>\n",
       "      <td>Under Construction</td>\n",
       "      <td>3</td>\n",
       "      <td>NaN</td>\n",
       "      <td>0.0</td>\n",
       "      <td>Mogappair</td>\n",
       "      <td>Casagrand Builder Private Limited</td>\n",
       "    </tr>\n",
       "    <tr>\n",
       "      <th>3</th>\n",
       "      <td>49.00</td>\n",
       "      <td>1028</td>\n",
       "      <td>Ready to move</td>\n",
       "      <td>2</td>\n",
       "      <td>2.0</td>\n",
       "      <td>3.0</td>\n",
       "      <td>Ambattur</td>\n",
       "      <td>Dugar Housing Builders</td>\n",
       "    </tr>\n",
       "    <tr>\n",
       "      <th>4</th>\n",
       "      <td>42.28</td>\n",
       "      <td>588</td>\n",
       "      <td>Under Construction</td>\n",
       "      <td>2</td>\n",
       "      <td>1.0</td>\n",
       "      <td>0.0</td>\n",
       "      <td>Pallavaram</td>\n",
       "      <td>Radiance Realty Developers India Ltd</td>\n",
       "    </tr>\n",
       "    <tr>\n",
       "      <th>...</th>\n",
       "      <td>...</td>\n",
       "      <td>...</td>\n",
       "      <td>...</td>\n",
       "      <td>...</td>\n",
       "      <td>...</td>\n",
       "      <td>...</td>\n",
       "      <td>...</td>\n",
       "      <td>...</td>\n",
       "    </tr>\n",
       "    <tr>\n",
       "      <th>2615</th>\n",
       "      <td>27.50</td>\n",
       "      <td>750</td>\n",
       "      <td>Ready to move</td>\n",
       "      <td>2</td>\n",
       "      <td>2.0</td>\n",
       "      <td>3.0</td>\n",
       "      <td>Veppampattu</td>\n",
       "      <td>Velan Housing Properties</td>\n",
       "    </tr>\n",
       "    <tr>\n",
       "      <th>2616</th>\n",
       "      <td>27.50</td>\n",
       "      <td>750</td>\n",
       "      <td>Ready to move</td>\n",
       "      <td>2</td>\n",
       "      <td>2.0</td>\n",
       "      <td>3.0</td>\n",
       "      <td>Veppampattu</td>\n",
       "      <td>Velan Housing Properties</td>\n",
       "    </tr>\n",
       "    <tr>\n",
       "      <th>2617</th>\n",
       "      <td>30.00</td>\n",
       "      <td>800</td>\n",
       "      <td>Ready to move</td>\n",
       "      <td>2</td>\n",
       "      <td>2.0</td>\n",
       "      <td>3.0</td>\n",
       "      <td>Veppampattu</td>\n",
       "      <td>Velan Housing Properties</td>\n",
       "    </tr>\n",
       "    <tr>\n",
       "      <th>2618</th>\n",
       "      <td>31.50</td>\n",
       "      <td>850</td>\n",
       "      <td>Ready to move</td>\n",
       "      <td>2</td>\n",
       "      <td>2.0</td>\n",
       "      <td>3.0</td>\n",
       "      <td>Veppampattu</td>\n",
       "      <td>Velan Housing Properties</td>\n",
       "    </tr>\n",
       "    <tr>\n",
       "      <th>2619</th>\n",
       "      <td>34.00</td>\n",
       "      <td>900</td>\n",
       "      <td>Ready to move</td>\n",
       "      <td>2</td>\n",
       "      <td>2.0</td>\n",
       "      <td>3.0</td>\n",
       "      <td>Veppampattu</td>\n",
       "      <td>Velan Housing Properties</td>\n",
       "    </tr>\n",
       "  </tbody>\n",
       "</table>\n",
       "<p>2620 rows × 8 columns</p>\n",
       "</div>"
      ],
      "text/plain": [
       "       price  area              status  bhk  bathroom  age     location  \\\n",
       "0      37.49   872       Ready to move    2       NaN  1.0    Sembakkam   \n",
       "1      93.54  1346  Under Construction    3       2.0  NaN     Selaiyur   \n",
       "2     151.00  2225  Under Construction    3       NaN  0.0    Mogappair   \n",
       "3      49.00  1028       Ready to move    2       2.0  3.0     Ambattur   \n",
       "4      42.28   588  Under Construction    2       1.0  0.0   Pallavaram   \n",
       "...      ...   ...                 ...  ...       ...  ...          ...   \n",
       "2615   27.50   750       Ready to move    2       2.0  3.0  Veppampattu   \n",
       "2616   27.50   750       Ready to move    2       2.0  3.0  Veppampattu   \n",
       "2617   30.00   800       Ready to move    2       2.0  3.0  Veppampattu   \n",
       "2618   31.50   850       Ready to move    2       2.0  3.0  Veppampattu   \n",
       "2619   34.00   900       Ready to move    2       2.0  3.0  Veppampattu   \n",
       "\n",
       "                                   builder  \n",
       "0                            MP Developers  \n",
       "1                            DAC Promoters  \n",
       "2        Casagrand Builder Private Limited  \n",
       "3                   Dugar Housing Builders  \n",
       "4     Radiance Realty Developers India Ltd  \n",
       "...                                    ...  \n",
       "2615              Velan Housing Properties  \n",
       "2616              Velan Housing Properties  \n",
       "2617              Velan Housing Properties  \n",
       "2618              Velan Housing Properties  \n",
       "2619              Velan Housing Properties  \n",
       "\n",
       "[2620 rows x 8 columns]"
      ]
     },
     "execution_count": 2,
     "metadata": {},
     "output_type": "execute_result"
    }
   ],
   "source": [
    "df=pd.read_csv(\"clean_data.csv\")\n",
    "df"
   ]
  },
  {
   "cell_type": "code",
   "execution_count": 3,
   "id": "e3c61342",
   "metadata": {},
   "outputs": [
    {
     "data": {
      "text/html": [
       "<div>\n",
       "<style scoped>\n",
       "    .dataframe tbody tr th:only-of-type {\n",
       "        vertical-align: middle;\n",
       "    }\n",
       "\n",
       "    .dataframe tbody tr th {\n",
       "        vertical-align: top;\n",
       "    }\n",
       "\n",
       "    .dataframe thead th {\n",
       "        text-align: right;\n",
       "    }\n",
       "</style>\n",
       "<table border=\"1\" class=\"dataframe\">\n",
       "  <thead>\n",
       "    <tr style=\"text-align: right;\">\n",
       "      <th></th>\n",
       "      <th>price</th>\n",
       "      <th>area</th>\n",
       "      <th>status</th>\n",
       "      <th>bhk</th>\n",
       "      <th>bathroom</th>\n",
       "      <th>age</th>\n",
       "      <th>location</th>\n",
       "      <th>builder</th>\n",
       "    </tr>\n",
       "  </thead>\n",
       "  <tbody>\n",
       "    <tr>\n",
       "      <th>1180</th>\n",
       "      <td>100.0</td>\n",
       "      <td>1400</td>\n",
       "      <td>Ready to move</td>\n",
       "      <td>3</td>\n",
       "      <td>3.0</td>\n",
       "      <td>3.0</td>\n",
       "      <td>Washermanpet</td>\n",
       "      <td>seller</td>\n",
       "    </tr>\n",
       "  </tbody>\n",
       "</table>\n",
       "</div>"
      ],
      "text/plain": [
       "      price  area         status  bhk  bathroom  age      location builder\n",
       "1180  100.0  1400  Ready to move    3       3.0  3.0  Washermanpet  seller"
      ]
     },
     "execution_count": 3,
     "metadata": {},
     "output_type": "execute_result"
    }
   ],
   "source": [
    "df[df.location=='Washermanpet']"
   ]
  },
  {
   "cell_type": "code",
   "execution_count": 4,
   "id": "9f818f0e",
   "metadata": {},
   "outputs": [
    {
     "data": {
      "text/html": [
       "<div>\n",
       "<style scoped>\n",
       "    .dataframe tbody tr th:only-of-type {\n",
       "        vertical-align: middle;\n",
       "    }\n",
       "\n",
       "    .dataframe tbody tr th {\n",
       "        vertical-align: top;\n",
       "    }\n",
       "\n",
       "    .dataframe thead th {\n",
       "        text-align: right;\n",
       "    }\n",
       "</style>\n",
       "<table border=\"1\" class=\"dataframe\">\n",
       "  <thead>\n",
       "    <tr style=\"text-align: right;\">\n",
       "      <th></th>\n",
       "      <th>price</th>\n",
       "      <th>area</th>\n",
       "      <th>bhk</th>\n",
       "      <th>bathroom</th>\n",
       "      <th>age</th>\n",
       "      <th>location</th>\n",
       "    </tr>\n",
       "  </thead>\n",
       "  <tbody>\n",
       "    <tr>\n",
       "      <th>0</th>\n",
       "      <td>37.49</td>\n",
       "      <td>872</td>\n",
       "      <td>2</td>\n",
       "      <td>NaN</td>\n",
       "      <td>1.0</td>\n",
       "      <td>Sembakkam</td>\n",
       "    </tr>\n",
       "    <tr>\n",
       "      <th>1</th>\n",
       "      <td>93.54</td>\n",
       "      <td>1346</td>\n",
       "      <td>3</td>\n",
       "      <td>2.0</td>\n",
       "      <td>NaN</td>\n",
       "      <td>Selaiyur</td>\n",
       "    </tr>\n",
       "    <tr>\n",
       "      <th>2</th>\n",
       "      <td>151.00</td>\n",
       "      <td>2225</td>\n",
       "      <td>3</td>\n",
       "      <td>NaN</td>\n",
       "      <td>0.0</td>\n",
       "      <td>Mogappair</td>\n",
       "    </tr>\n",
       "    <tr>\n",
       "      <th>3</th>\n",
       "      <td>49.00</td>\n",
       "      <td>1028</td>\n",
       "      <td>2</td>\n",
       "      <td>2.0</td>\n",
       "      <td>3.0</td>\n",
       "      <td>Ambattur</td>\n",
       "    </tr>\n",
       "    <tr>\n",
       "      <th>4</th>\n",
       "      <td>42.28</td>\n",
       "      <td>588</td>\n",
       "      <td>2</td>\n",
       "      <td>1.0</td>\n",
       "      <td>0.0</td>\n",
       "      <td>Pallavaram</td>\n",
       "    </tr>\n",
       "    <tr>\n",
       "      <th>...</th>\n",
       "      <td>...</td>\n",
       "      <td>...</td>\n",
       "      <td>...</td>\n",
       "      <td>...</td>\n",
       "      <td>...</td>\n",
       "      <td>...</td>\n",
       "    </tr>\n",
       "    <tr>\n",
       "      <th>2615</th>\n",
       "      <td>27.50</td>\n",
       "      <td>750</td>\n",
       "      <td>2</td>\n",
       "      <td>2.0</td>\n",
       "      <td>3.0</td>\n",
       "      <td>Veppampattu</td>\n",
       "    </tr>\n",
       "    <tr>\n",
       "      <th>2616</th>\n",
       "      <td>27.50</td>\n",
       "      <td>750</td>\n",
       "      <td>2</td>\n",
       "      <td>2.0</td>\n",
       "      <td>3.0</td>\n",
       "      <td>Veppampattu</td>\n",
       "    </tr>\n",
       "    <tr>\n",
       "      <th>2617</th>\n",
       "      <td>30.00</td>\n",
       "      <td>800</td>\n",
       "      <td>2</td>\n",
       "      <td>2.0</td>\n",
       "      <td>3.0</td>\n",
       "      <td>Veppampattu</td>\n",
       "    </tr>\n",
       "    <tr>\n",
       "      <th>2618</th>\n",
       "      <td>31.50</td>\n",
       "      <td>850</td>\n",
       "      <td>2</td>\n",
       "      <td>2.0</td>\n",
       "      <td>3.0</td>\n",
       "      <td>Veppampattu</td>\n",
       "    </tr>\n",
       "    <tr>\n",
       "      <th>2619</th>\n",
       "      <td>34.00</td>\n",
       "      <td>900</td>\n",
       "      <td>2</td>\n",
       "      <td>2.0</td>\n",
       "      <td>3.0</td>\n",
       "      <td>Veppampattu</td>\n",
       "    </tr>\n",
       "  </tbody>\n",
       "</table>\n",
       "<p>2620 rows × 6 columns</p>\n",
       "</div>"
      ],
      "text/plain": [
       "       price  area  bhk  bathroom  age     location\n",
       "0      37.49   872    2       NaN  1.0    Sembakkam\n",
       "1      93.54  1346    3       2.0  NaN     Selaiyur\n",
       "2     151.00  2225    3       NaN  0.0    Mogappair\n",
       "3      49.00  1028    2       2.0  3.0     Ambattur\n",
       "4      42.28   588    2       1.0  0.0   Pallavaram\n",
       "...      ...   ...  ...       ...  ...          ...\n",
       "2615   27.50   750    2       2.0  3.0  Veppampattu\n",
       "2616   27.50   750    2       2.0  3.0  Veppampattu\n",
       "2617   30.00   800    2       2.0  3.0  Veppampattu\n",
       "2618   31.50   850    2       2.0  3.0  Veppampattu\n",
       "2619   34.00   900    2       2.0  3.0  Veppampattu\n",
       "\n",
       "[2620 rows x 6 columns]"
      ]
     },
     "execution_count": 4,
     "metadata": {},
     "output_type": "execute_result"
    }
   ],
   "source": [
    "df1=df.drop(df[['builder','status']],axis='columns')\n",
    "df1"
   ]
  },
  {
   "cell_type": "code",
   "execution_count": 5,
   "id": "a210aebb",
   "metadata": {},
   "outputs": [
    {
     "data": {
      "text/plain": [
       "0     37.49\n",
       "1     93.54\n",
       "2    151.00\n",
       "3     49.00\n",
       "4     42.28\n",
       "Name: price, dtype: float64"
      ]
     },
     "execution_count": 5,
     "metadata": {},
     "output_type": "execute_result"
    }
   ],
   "source": [
    "p=df1.price\n",
    "p.head()"
   ]
  },
  {
   "cell_type": "code",
   "execution_count": 6,
   "id": "efb8cc25",
   "metadata": {},
   "outputs": [
    {
     "data": {
      "text/html": [
       "<div>\n",
       "<style scoped>\n",
       "    .dataframe tbody tr th:only-of-type {\n",
       "        vertical-align: middle;\n",
       "    }\n",
       "\n",
       "    .dataframe tbody tr th {\n",
       "        vertical-align: top;\n",
       "    }\n",
       "\n",
       "    .dataframe thead th {\n",
       "        text-align: right;\n",
       "    }\n",
       "</style>\n",
       "<table border=\"1\" class=\"dataframe\">\n",
       "  <thead>\n",
       "    <tr style=\"text-align: right;\">\n",
       "      <th></th>\n",
       "      <th>area</th>\n",
       "      <th>bhk</th>\n",
       "      <th>bathroom</th>\n",
       "      <th>age</th>\n",
       "      <th>location</th>\n",
       "    </tr>\n",
       "  </thead>\n",
       "  <tbody>\n",
       "    <tr>\n",
       "      <th>0</th>\n",
       "      <td>872</td>\n",
       "      <td>2</td>\n",
       "      <td>NaN</td>\n",
       "      <td>1.0</td>\n",
       "      <td>Sembakkam</td>\n",
       "    </tr>\n",
       "    <tr>\n",
       "      <th>1</th>\n",
       "      <td>1346</td>\n",
       "      <td>3</td>\n",
       "      <td>2.0</td>\n",
       "      <td>NaN</td>\n",
       "      <td>Selaiyur</td>\n",
       "    </tr>\n",
       "    <tr>\n",
       "      <th>2</th>\n",
       "      <td>2225</td>\n",
       "      <td>3</td>\n",
       "      <td>NaN</td>\n",
       "      <td>0.0</td>\n",
       "      <td>Mogappair</td>\n",
       "    </tr>\n",
       "    <tr>\n",
       "      <th>3</th>\n",
       "      <td>1028</td>\n",
       "      <td>2</td>\n",
       "      <td>2.0</td>\n",
       "      <td>3.0</td>\n",
       "      <td>Ambattur</td>\n",
       "    </tr>\n",
       "    <tr>\n",
       "      <th>4</th>\n",
       "      <td>588</td>\n",
       "      <td>2</td>\n",
       "      <td>1.0</td>\n",
       "      <td>0.0</td>\n",
       "      <td>Pallavaram</td>\n",
       "    </tr>\n",
       "    <tr>\n",
       "      <th>...</th>\n",
       "      <td>...</td>\n",
       "      <td>...</td>\n",
       "      <td>...</td>\n",
       "      <td>...</td>\n",
       "      <td>...</td>\n",
       "    </tr>\n",
       "    <tr>\n",
       "      <th>2615</th>\n",
       "      <td>750</td>\n",
       "      <td>2</td>\n",
       "      <td>2.0</td>\n",
       "      <td>3.0</td>\n",
       "      <td>Veppampattu</td>\n",
       "    </tr>\n",
       "    <tr>\n",
       "      <th>2616</th>\n",
       "      <td>750</td>\n",
       "      <td>2</td>\n",
       "      <td>2.0</td>\n",
       "      <td>3.0</td>\n",
       "      <td>Veppampattu</td>\n",
       "    </tr>\n",
       "    <tr>\n",
       "      <th>2617</th>\n",
       "      <td>800</td>\n",
       "      <td>2</td>\n",
       "      <td>2.0</td>\n",
       "      <td>3.0</td>\n",
       "      <td>Veppampattu</td>\n",
       "    </tr>\n",
       "    <tr>\n",
       "      <th>2618</th>\n",
       "      <td>850</td>\n",
       "      <td>2</td>\n",
       "      <td>2.0</td>\n",
       "      <td>3.0</td>\n",
       "      <td>Veppampattu</td>\n",
       "    </tr>\n",
       "    <tr>\n",
       "      <th>2619</th>\n",
       "      <td>900</td>\n",
       "      <td>2</td>\n",
       "      <td>2.0</td>\n",
       "      <td>3.0</td>\n",
       "      <td>Veppampattu</td>\n",
       "    </tr>\n",
       "  </tbody>\n",
       "</table>\n",
       "<p>2620 rows × 5 columns</p>\n",
       "</div>"
      ],
      "text/plain": [
       "      area  bhk  bathroom  age     location\n",
       "0      872    2       NaN  1.0    Sembakkam\n",
       "1     1346    3       2.0  NaN     Selaiyur\n",
       "2     2225    3       NaN  0.0    Mogappair\n",
       "3     1028    2       2.0  3.0     Ambattur\n",
       "4      588    2       1.0  0.0   Pallavaram\n",
       "...    ...  ...       ...  ...          ...\n",
       "2615   750    2       2.0  3.0  Veppampattu\n",
       "2616   750    2       2.0  3.0  Veppampattu\n",
       "2617   800    2       2.0  3.0  Veppampattu\n",
       "2618   850    2       2.0  3.0  Veppampattu\n",
       "2619   900    2       2.0  3.0  Veppampattu\n",
       "\n",
       "[2620 rows x 5 columns]"
      ]
     },
     "execution_count": 6,
     "metadata": {},
     "output_type": "execute_result"
    }
   ],
   "source": [
    "df1.drop(df1[['price']],axis='columns',inplace=True)\n",
    "df1"
   ]
  },
  {
   "cell_type": "code",
   "execution_count": 7,
   "id": "dd4d406a",
   "metadata": {},
   "outputs": [
    {
     "data": {
      "text/plain": [
       "891"
      ]
     },
     "execution_count": 7,
     "metadata": {},
     "output_type": "execute_result"
    }
   ],
   "source": [
    "(df1.age.isna()).sum()"
   ]
  },
  {
   "cell_type": "code",
   "execution_count": 8,
   "id": "1878d77f",
   "metadata": {},
   "outputs": [
    {
     "data": {
      "text/plain": [
       "1217"
      ]
     },
     "execution_count": 8,
     "metadata": {},
     "output_type": "execute_result"
    }
   ],
   "source": [
    "(df1.bathroom.isna()).sum()"
   ]
  },
  {
   "cell_type": "code",
   "execution_count": 9,
   "id": "b99e86b6",
   "metadata": {
    "scrolled": true
   },
   "outputs": [],
   "source": [
    "age_rep=int(df1.age.mean())"
   ]
  },
  {
   "cell_type": "code",
   "execution_count": 10,
   "id": "f03ade26",
   "metadata": {
    "scrolled": true
   },
   "outputs": [
    {
     "data": {
      "text/plain": [
       "0.0"
      ]
     },
     "execution_count": 10,
     "metadata": {},
     "output_type": "execute_result"
    }
   ],
   "source": [
    "df1.age.median()"
   ]
  },
  {
   "cell_type": "code",
   "execution_count": 11,
   "id": "66d07872",
   "metadata": {},
   "outputs": [
    {
     "data": {
      "text/plain": [
       "2.359230220955096"
      ]
     },
     "execution_count": 11,
     "metadata": {},
     "output_type": "execute_result"
    }
   ],
   "source": [
    "df1.bathroom.mean()"
   ]
  },
  {
   "cell_type": "code",
   "execution_count": 12,
   "id": "29dc51fc",
   "metadata": {},
   "outputs": [
    {
     "data": {
      "text/plain": [
       "2"
      ]
     },
     "execution_count": 12,
     "metadata": {},
     "output_type": "execute_result"
    }
   ],
   "source": [
    "int(df1.bathroom.median())"
   ]
  },
  {
   "cell_type": "code",
   "execution_count": 13,
   "id": "71d4fc39",
   "metadata": {},
   "outputs": [
    {
     "data": {
      "text/plain": [
       "2.0"
      ]
     },
     "execution_count": 13,
     "metadata": {},
     "output_type": "execute_result"
    }
   ],
   "source": [
    "bath_rep=float(df1.bathroom.median())\n",
    "bath_rep"
   ]
  },
  {
   "cell_type": "code",
   "execution_count": 14,
   "id": "132eefbb",
   "metadata": {},
   "outputs": [],
   "source": [
    "df1.age=df1.age.fillna(age_rep)"
   ]
  },
  {
   "cell_type": "code",
   "execution_count": 15,
   "id": "e85e6108",
   "metadata": {},
   "outputs": [
    {
     "data": {
      "text/html": [
       "<div>\n",
       "<style scoped>\n",
       "    .dataframe tbody tr th:only-of-type {\n",
       "        vertical-align: middle;\n",
       "    }\n",
       "\n",
       "    .dataframe tbody tr th {\n",
       "        vertical-align: top;\n",
       "    }\n",
       "\n",
       "    .dataframe thead th {\n",
       "        text-align: right;\n",
       "    }\n",
       "</style>\n",
       "<table border=\"1\" class=\"dataframe\">\n",
       "  <thead>\n",
       "    <tr style=\"text-align: right;\">\n",
       "      <th></th>\n",
       "      <th>area</th>\n",
       "      <th>bhk</th>\n",
       "      <th>bathroom</th>\n",
       "      <th>age</th>\n",
       "      <th>location</th>\n",
       "    </tr>\n",
       "  </thead>\n",
       "  <tbody>\n",
       "    <tr>\n",
       "      <th>0</th>\n",
       "      <td>872</td>\n",
       "      <td>2</td>\n",
       "      <td>NaN</td>\n",
       "      <td>1.0</td>\n",
       "      <td>Sembakkam</td>\n",
       "    </tr>\n",
       "    <tr>\n",
       "      <th>1</th>\n",
       "      <td>1346</td>\n",
       "      <td>3</td>\n",
       "      <td>2.0</td>\n",
       "      <td>1.0</td>\n",
       "      <td>Selaiyur</td>\n",
       "    </tr>\n",
       "    <tr>\n",
       "      <th>2</th>\n",
       "      <td>2225</td>\n",
       "      <td>3</td>\n",
       "      <td>NaN</td>\n",
       "      <td>0.0</td>\n",
       "      <td>Mogappair</td>\n",
       "    </tr>\n",
       "    <tr>\n",
       "      <th>3</th>\n",
       "      <td>1028</td>\n",
       "      <td>2</td>\n",
       "      <td>2.0</td>\n",
       "      <td>3.0</td>\n",
       "      <td>Ambattur</td>\n",
       "    </tr>\n",
       "    <tr>\n",
       "      <th>4</th>\n",
       "      <td>588</td>\n",
       "      <td>2</td>\n",
       "      <td>1.0</td>\n",
       "      <td>0.0</td>\n",
       "      <td>Pallavaram</td>\n",
       "    </tr>\n",
       "    <tr>\n",
       "      <th>...</th>\n",
       "      <td>...</td>\n",
       "      <td>...</td>\n",
       "      <td>...</td>\n",
       "      <td>...</td>\n",
       "      <td>...</td>\n",
       "    </tr>\n",
       "    <tr>\n",
       "      <th>2615</th>\n",
       "      <td>750</td>\n",
       "      <td>2</td>\n",
       "      <td>2.0</td>\n",
       "      <td>3.0</td>\n",
       "      <td>Veppampattu</td>\n",
       "    </tr>\n",
       "    <tr>\n",
       "      <th>2616</th>\n",
       "      <td>750</td>\n",
       "      <td>2</td>\n",
       "      <td>2.0</td>\n",
       "      <td>3.0</td>\n",
       "      <td>Veppampattu</td>\n",
       "    </tr>\n",
       "    <tr>\n",
       "      <th>2617</th>\n",
       "      <td>800</td>\n",
       "      <td>2</td>\n",
       "      <td>2.0</td>\n",
       "      <td>3.0</td>\n",
       "      <td>Veppampattu</td>\n",
       "    </tr>\n",
       "    <tr>\n",
       "      <th>2618</th>\n",
       "      <td>850</td>\n",
       "      <td>2</td>\n",
       "      <td>2.0</td>\n",
       "      <td>3.0</td>\n",
       "      <td>Veppampattu</td>\n",
       "    </tr>\n",
       "    <tr>\n",
       "      <th>2619</th>\n",
       "      <td>900</td>\n",
       "      <td>2</td>\n",
       "      <td>2.0</td>\n",
       "      <td>3.0</td>\n",
       "      <td>Veppampattu</td>\n",
       "    </tr>\n",
       "  </tbody>\n",
       "</table>\n",
       "<p>2620 rows × 5 columns</p>\n",
       "</div>"
      ],
      "text/plain": [
       "      area  bhk  bathroom  age     location\n",
       "0      872    2       NaN  1.0    Sembakkam\n",
       "1     1346    3       2.0  1.0     Selaiyur\n",
       "2     2225    3       NaN  0.0    Mogappair\n",
       "3     1028    2       2.0  3.0     Ambattur\n",
       "4      588    2       1.0  0.0   Pallavaram\n",
       "...    ...  ...       ...  ...          ...\n",
       "2615   750    2       2.0  3.0  Veppampattu\n",
       "2616   750    2       2.0  3.0  Veppampattu\n",
       "2617   800    2       2.0  3.0  Veppampattu\n",
       "2618   850    2       2.0  3.0  Veppampattu\n",
       "2619   900    2       2.0  3.0  Veppampattu\n",
       "\n",
       "[2620 rows x 5 columns]"
      ]
     },
     "execution_count": 15,
     "metadata": {},
     "output_type": "execute_result"
    }
   ],
   "source": [
    "df1"
   ]
  },
  {
   "cell_type": "code",
   "execution_count": 16,
   "id": "b57b04a3",
   "metadata": {},
   "outputs": [
    {
     "data": {
      "text/plain": [
       "0"
      ]
     },
     "execution_count": 16,
     "metadata": {},
     "output_type": "execute_result"
    }
   ],
   "source": [
    "(df1.age.isna()).sum()"
   ]
  },
  {
   "cell_type": "code",
   "execution_count": 17,
   "id": "03f784ef",
   "metadata": {},
   "outputs": [],
   "source": [
    "df1.bathroom=df1.bathroom.fillna(bath_rep)"
   ]
  },
  {
   "cell_type": "code",
   "execution_count": 18,
   "id": "820f0add",
   "metadata": {},
   "outputs": [
    {
     "data": {
      "text/html": [
       "<div>\n",
       "<style scoped>\n",
       "    .dataframe tbody tr th:only-of-type {\n",
       "        vertical-align: middle;\n",
       "    }\n",
       "\n",
       "    .dataframe tbody tr th {\n",
       "        vertical-align: top;\n",
       "    }\n",
       "\n",
       "    .dataframe thead th {\n",
       "        text-align: right;\n",
       "    }\n",
       "</style>\n",
       "<table border=\"1\" class=\"dataframe\">\n",
       "  <thead>\n",
       "    <tr style=\"text-align: right;\">\n",
       "      <th></th>\n",
       "      <th>area</th>\n",
       "      <th>bhk</th>\n",
       "      <th>bathroom</th>\n",
       "      <th>age</th>\n",
       "      <th>location</th>\n",
       "    </tr>\n",
       "  </thead>\n",
       "  <tbody>\n",
       "    <tr>\n",
       "      <th>0</th>\n",
       "      <td>872</td>\n",
       "      <td>2</td>\n",
       "      <td>2.0</td>\n",
       "      <td>1.0</td>\n",
       "      <td>Sembakkam</td>\n",
       "    </tr>\n",
       "    <tr>\n",
       "      <th>1</th>\n",
       "      <td>1346</td>\n",
       "      <td>3</td>\n",
       "      <td>2.0</td>\n",
       "      <td>1.0</td>\n",
       "      <td>Selaiyur</td>\n",
       "    </tr>\n",
       "    <tr>\n",
       "      <th>2</th>\n",
       "      <td>2225</td>\n",
       "      <td>3</td>\n",
       "      <td>2.0</td>\n",
       "      <td>0.0</td>\n",
       "      <td>Mogappair</td>\n",
       "    </tr>\n",
       "    <tr>\n",
       "      <th>3</th>\n",
       "      <td>1028</td>\n",
       "      <td>2</td>\n",
       "      <td>2.0</td>\n",
       "      <td>3.0</td>\n",
       "      <td>Ambattur</td>\n",
       "    </tr>\n",
       "    <tr>\n",
       "      <th>4</th>\n",
       "      <td>588</td>\n",
       "      <td>2</td>\n",
       "      <td>1.0</td>\n",
       "      <td>0.0</td>\n",
       "      <td>Pallavaram</td>\n",
       "    </tr>\n",
       "    <tr>\n",
       "      <th>...</th>\n",
       "      <td>...</td>\n",
       "      <td>...</td>\n",
       "      <td>...</td>\n",
       "      <td>...</td>\n",
       "      <td>...</td>\n",
       "    </tr>\n",
       "    <tr>\n",
       "      <th>2615</th>\n",
       "      <td>750</td>\n",
       "      <td>2</td>\n",
       "      <td>2.0</td>\n",
       "      <td>3.0</td>\n",
       "      <td>Veppampattu</td>\n",
       "    </tr>\n",
       "    <tr>\n",
       "      <th>2616</th>\n",
       "      <td>750</td>\n",
       "      <td>2</td>\n",
       "      <td>2.0</td>\n",
       "      <td>3.0</td>\n",
       "      <td>Veppampattu</td>\n",
       "    </tr>\n",
       "    <tr>\n",
       "      <th>2617</th>\n",
       "      <td>800</td>\n",
       "      <td>2</td>\n",
       "      <td>2.0</td>\n",
       "      <td>3.0</td>\n",
       "      <td>Veppampattu</td>\n",
       "    </tr>\n",
       "    <tr>\n",
       "      <th>2618</th>\n",
       "      <td>850</td>\n",
       "      <td>2</td>\n",
       "      <td>2.0</td>\n",
       "      <td>3.0</td>\n",
       "      <td>Veppampattu</td>\n",
       "    </tr>\n",
       "    <tr>\n",
       "      <th>2619</th>\n",
       "      <td>900</td>\n",
       "      <td>2</td>\n",
       "      <td>2.0</td>\n",
       "      <td>3.0</td>\n",
       "      <td>Veppampattu</td>\n",
       "    </tr>\n",
       "  </tbody>\n",
       "</table>\n",
       "<p>2620 rows × 5 columns</p>\n",
       "</div>"
      ],
      "text/plain": [
       "      area  bhk  bathroom  age     location\n",
       "0      872    2       2.0  1.0    Sembakkam\n",
       "1     1346    3       2.0  1.0     Selaiyur\n",
       "2     2225    3       2.0  0.0    Mogappair\n",
       "3     1028    2       2.0  3.0     Ambattur\n",
       "4      588    2       1.0  0.0   Pallavaram\n",
       "...    ...  ...       ...  ...          ...\n",
       "2615   750    2       2.0  3.0  Veppampattu\n",
       "2616   750    2       2.0  3.0  Veppampattu\n",
       "2617   800    2       2.0  3.0  Veppampattu\n",
       "2618   850    2       2.0  3.0  Veppampattu\n",
       "2619   900    2       2.0  3.0  Veppampattu\n",
       "\n",
       "[2620 rows x 5 columns]"
      ]
     },
     "execution_count": 18,
     "metadata": {},
     "output_type": "execute_result"
    }
   ],
   "source": [
    "df1"
   ]
  },
  {
   "cell_type": "code",
   "execution_count": 19,
   "id": "e5882583",
   "metadata": {
    "scrolled": true
   },
   "outputs": [
    {
     "data": {
      "text/plain": [
       "0"
      ]
     },
     "execution_count": 19,
     "metadata": {},
     "output_type": "execute_result"
    }
   ],
   "source": [
    "(df1.bathroom.isna()).sum()"
   ]
  },
  {
   "cell_type": "code",
   "execution_count": 20,
   "id": "75befb05",
   "metadata": {
    "scrolled": true
   },
   "outputs": [
    {
     "data": {
      "text/plain": [
       "area          int64\n",
       "bhk           int64\n",
       "bathroom    float64\n",
       "age         float64\n",
       "location     object\n",
       "dtype: object"
      ]
     },
     "execution_count": 20,
     "metadata": {},
     "output_type": "execute_result"
    }
   ],
   "source": [
    "df1.dtypes"
   ]
  },
  {
   "cell_type": "code",
   "execution_count": 21,
   "id": "8df2c811",
   "metadata": {},
   "outputs": [
    {
     "data": {
      "text/plain": [
       "area        0\n",
       "bhk         0\n",
       "bathroom    0\n",
       "age         0\n",
       "location    0\n",
       "dtype: int64"
      ]
     },
     "execution_count": 21,
     "metadata": {},
     "output_type": "execute_result"
    }
   ],
   "source": [
    "df1.isna().sum()"
   ]
  },
  {
   "cell_type": "code",
   "execution_count": 22,
   "id": "76e24bbc",
   "metadata": {},
   "outputs": [
    {
     "data": {
      "text/plain": [
       "array([ 872, 1346, 2225, ..., 1127, 1131,  898], dtype=int64)"
      ]
     },
     "execution_count": 22,
     "metadata": {},
     "output_type": "execute_result"
    }
   ],
   "source": [
    "df1.area.unique()"
   ]
  },
  {
   "cell_type": "code",
   "execution_count": 23,
   "id": "75d00e03",
   "metadata": {},
   "outputs": [
    {
     "data": {
      "text/plain": [
       "Veppampattu                       149\n",
       "Pammal                            139\n",
       "Medavakkam                        111\n",
       "Sholinganallur                     99\n",
       "Perungudi                          88\n",
       "                                 ... \n",
       "Villivakkam                         1\n",
       "Kil Ayanambakkam                    1\n",
       "Oragadam Village Ambattur Talu      1\n",
       "Sriperumbudur                       1\n",
       "Maduravoyal                         1\n",
       "Name: location, Length: 178, dtype: int64"
      ]
     },
     "execution_count": 23,
     "metadata": {},
     "output_type": "execute_result"
    }
   ],
   "source": [
    "df1.location.value_counts()"
   ]
  },
  {
   "cell_type": "code",
   "execution_count": 24,
   "id": "ae030465",
   "metadata": {
    "scrolled": true
   },
   "outputs": [
    {
     "data": {
      "text/plain": [
       "location\n",
       "Kolapakkam Vandalur      1\n",
       "Cholambedu               1\n",
       "Red Hills                1\n",
       "Thiruvidandhai           1\n",
       "Mahabalipuram            1\n",
       "                      ... \n",
       "Perungudi               88\n",
       "Sholinganallur          99\n",
       "Medavakkam             111\n",
       "Pammal                 139\n",
       "Veppampattu            149\n",
       "Name: location, Length: 178, dtype: int64"
      ]
     },
     "execution_count": 24,
     "metadata": {},
     "output_type": "execute_result"
    }
   ],
   "source": [
    "dp=df1\n",
    "dp.groupby('location')['location'].agg('count').sort_values()"
   ]
  },
  {
   "cell_type": "code",
   "execution_count": 25,
   "id": "18cb05ed",
   "metadata": {},
   "outputs": [],
   "source": [
    "ls=dp.groupby('location')['location'].agg('count')"
   ]
  },
  {
   "cell_type": "code",
   "execution_count": 26,
   "id": "a31f868b",
   "metadata": {
    "scrolled": true
   },
   "outputs": [
    {
     "data": {
      "text/plain": [
       "location\n",
       "Anna Nagar East    2\n",
       "Arumbakkam         2\n",
       "Ashok Nagar        1\n",
       "Avadi              3\n",
       "Ayanavaram         3\n",
       "                  ..\n",
       "Thiruvidandhai     1\n",
       "Vellakkal          1\n",
       "Veppampatttu       2\n",
       "Villivakkam        1\n",
       "Washermanpet       1\n",
       "Name: location, Length: 67, dtype: int64"
      ]
     },
     "execution_count": 26,
     "metadata": {},
     "output_type": "execute_result"
    }
   ],
   "source": [
    "to_red=ls[ls<=3]\n",
    "to_red"
   ]
  },
  {
   "cell_type": "code",
   "execution_count": 27,
   "id": "f44e71f9",
   "metadata": {},
   "outputs": [
    {
     "data": {
      "text/plain": [
       "'def change_loc(x):\\n    if x in to_red:\\n        return \"other\"\\n    else:\\n        return x\\n   '"
      ]
     },
     "execution_count": 27,
     "metadata": {},
     "output_type": "execute_result"
    }
   ],
   "source": [
    "\"\"\"def change_loc(x):\n",
    "    if x in to_red:\n",
    "        return \"other\"\n",
    "    else:\n",
    "        return x\n",
    "   \"\"\" "
   ]
  },
  {
   "cell_type": "code",
   "execution_count": 28,
   "id": "5aa451fe",
   "metadata": {},
   "outputs": [],
   "source": [
    "#df1.location=df1.location.apply(change_loc)"
   ]
  },
  {
   "cell_type": "code",
   "execution_count": 29,
   "id": "a996ca8b",
   "metadata": {},
   "outputs": [
    {
     "data": {
      "text/plain": [
       "Veppampattu                       149\n",
       "Pammal                            139\n",
       "Medavakkam                        111\n",
       "Sholinganallur                     99\n",
       "Perungudi                          88\n",
       "                                 ... \n",
       "Villivakkam                         1\n",
       "Kil Ayanambakkam                    1\n",
       "Oragadam Village Ambattur Talu      1\n",
       "Sriperumbudur                       1\n",
       "Maduravoyal                         1\n",
       "Name: location, Length: 178, dtype: int64"
      ]
     },
     "execution_count": 29,
     "metadata": {},
     "output_type": "execute_result"
    }
   ],
   "source": [
    "df1.location.value_counts()"
   ]
  },
  {
   "cell_type": "code",
   "execution_count": 30,
   "id": "f5fdedef",
   "metadata": {},
   "outputs": [
    {
     "data": {
      "text/plain": [
       "(2620, 5)"
      ]
     },
     "execution_count": 30,
     "metadata": {},
     "output_type": "execute_result"
    }
   ],
   "source": [
    "df1.shape"
   ]
  },
  {
   "cell_type": "code",
   "execution_count": 31,
   "id": "3e5e86e4",
   "metadata": {},
   "outputs": [],
   "source": [
    "def tambaram_change(x):\n",
    "    if(x==\"tambaram west\"):\n",
    "        return \"West Tambaram\"\n",
    "    return x"
   ]
  },
  {
   "cell_type": "code",
   "execution_count": 32,
   "id": "5bf8b2d8",
   "metadata": {},
   "outputs": [],
   "source": [
    "df1['location']=df1.location.apply(tambaram_change)"
   ]
  },
  {
   "cell_type": "code",
   "execution_count": 33,
   "id": "ac7ae2ad",
   "metadata": {},
   "outputs": [],
   "source": [
    "dum=pd.get_dummies(df1.location)"
   ]
  },
  {
   "cell_type": "code",
   "execution_count": 34,
   "id": "6c179242",
   "metadata": {},
   "outputs": [
    {
     "data": {
      "text/plain": [
       "array(['Sembakkam', 'Selaiyur', 'Mogappair', 'Ambattur', 'Pallavaram',\n",
       "       'Virugambakkam', 'Thirumazhisai', 'Moolakadai', 'Ottiyambakkam',\n",
       "       'Perungalathur', 'Gerugambakkam', 'Anna Nagar', 'Gopalapuram',\n",
       "       'Pammal', 'Porur', 'Navallur', 'Sholinganallur', 'Vanagaram',\n",
       "       'T Nagar', 'Guindy', 'Madipakkam', 'Perumbakkam', 'Velachery',\n",
       "       'Medavakkam', 'Gowrivakkam', 'Chromepet', 'Thalambur', 'Thandalam',\n",
       "       'Ayanambakkam', 'Kanathur Reddikuppam', 'Adyar', 'Kolapakkam',\n",
       "       'Thaiyur', 'Thoraipakkam OMR', 'Poonamallee', 'Padur',\n",
       "       'East Tambaram', 'Tiruvottiyur', 'Iyappanthangal', 'Padappai',\n",
       "       'Mugalivakkam', 'Kelambakkam', 'Thirumullaivoyal', 'Madhavaram',\n",
       "       'Kundrathur', 'Vengaivasal', 'Siruseri', 'Manapakkam',\n",
       "       'Karapakkam', 'Sithalapakkam', 'Madambakkam', 'Perungudi',\n",
       "       'Vadapalani', 'Alwarpet', 'Thiruvidandhai', 'Kotturpuram',\n",
       "       'Velappanchavadi', 'Kilpauk', 'Besant Nagar', 'Vellakkal', 'Avadi',\n",
       "       'Kolathur', 'Thiruvanmiyur', 'Periyar Nagar', 'Nanmangalam',\n",
       "       'Anakaputhur', 'Urapakkam', 'Kovur', 'Nungambakkam', 'Maduravoyal',\n",
       "       'Guduvancheri', 'Koyambedu', 'Korattur', 'Iyyappanthangal',\n",
       "       'Madhavaram Milk Colony', 'Jeth Nagar', 'Mangadu',\n",
       "       'Singaperumal Koil', 'Madhanandapuram', 'Kandigai', 'Veppampattu',\n",
       "       'Saidapet', 'Oragadam Village Ambattur Talu', 'Pattabiram',\n",
       "       'Mahabalipuram', 'Ayapakkam', 'Chitlapakkam', 'Puzhal',\n",
       "       'Washermanpet', 'Thiruverkadu', 'Pozhichalur', 'Mannur',\n",
       "       'West Mambalam', 'Kattupakkam', 'Maraimalai Nagar', 'Chetpet',\n",
       "       'Ramapuram', 'Alandur', 'Red Hills', 'K K Nagar', 'Purasawalkam',\n",
       "       'Ramavaram', 'Shenoy Nagar', 'Saligramam', 'Royapettah',\n",
       "       'Valasaravakkam', 'Semmancheri', 'Ottiyabakkam', 'Nanganallur',\n",
       "       'Pallikaranai', 'Muttukadu', 'Tharapakkam', 'Egmore',\n",
       "       'Anna Nagar East', 'Ayanavaram', 'Raja Annamalai Puram',\n",
       "       'Aminjikarai', 'Purasaiwakkam', 'Periyapanicheri',\n",
       "       'Kattankulathur', 'Kotivakkam', 'Kumananchavadi', 'Perumalpattu',\n",
       "       'Kodambakkam', 'Sevvapet', 'West Tambaram', 'Kovilambakkam',\n",
       "       'Rajakilpakkam', 'Villivakkam', 'Chengalpattu', 'Cholambedu',\n",
       "       'Nesapakkam', 'Padapai', 'Neelankarai', 'Vadanemmeli',\n",
       "       'Kumaran Nagar', 'Ashok Nagar', 'Adambakam', 'Perambur',\n",
       "       'Keelkattalai', 'Kodungaiyur West', 'Pudupakkam', 'Padi',\n",
       "       'Mogappair East', 'Elandanur', 'Pazavanthangal', 'Thiruporur',\n",
       "       'Moolacheri', 'Kolapakkam Vandalur', 'Veppampatttu', 'Manali',\n",
       "       'Jamalia', 'Kottivakkam', 'Gokulapuram', 'Iyyapa Nagar',\n",
       "       'Old Pallavaram', 'Sriperumbudur', 'Ponniammanmedu', 'Kovalam',\n",
       "       'CIT Nagar', 'Agaramthen', 'Vengambakkam', 'Mambakkam',\n",
       "       'Nallambakkam', 'Peerakankaranai', 'Rathinamangalam',\n",
       "       'Nandambakkam', 'Jafferkhanpet', 'Arumbakkam', 'Kuthambakkam',\n",
       "       'Thirumalpur', 'Mahindra World City',\n",
       "       'Oragadam Industrial Corridor', 'Ragavendra Colony',\n",
       "       'Ambattur INDUSTRIAL ESTATE', 'Mannivakkam', 'Kil Ayanambakkam'],\n",
       "      dtype=object)"
      ]
     },
     "execution_count": 34,
     "metadata": {},
     "output_type": "execute_result"
    }
   ],
   "source": [
    "df1.location.unique()"
   ]
  },
  {
   "cell_type": "code",
   "execution_count": 35,
   "id": "fd6833b8",
   "metadata": {},
   "outputs": [],
   "source": [
    "final=pd.concat([df1,dum],axis=1)"
   ]
  },
  {
   "cell_type": "code",
   "execution_count": 36,
   "id": "157bca6a",
   "metadata": {},
   "outputs": [],
   "source": [
    "final.drop(['location'],inplace=True,axis=1)"
   ]
  },
  {
   "cell_type": "code",
   "execution_count": 37,
   "id": "7a209380",
   "metadata": {},
   "outputs": [
    {
     "data": {
      "text/html": [
       "<div>\n",
       "<style scoped>\n",
       "    .dataframe tbody tr th:only-of-type {\n",
       "        vertical-align: middle;\n",
       "    }\n",
       "\n",
       "    .dataframe tbody tr th {\n",
       "        vertical-align: top;\n",
       "    }\n",
       "\n",
       "    .dataframe thead th {\n",
       "        text-align: right;\n",
       "    }\n",
       "</style>\n",
       "<table border=\"1\" class=\"dataframe\">\n",
       "  <thead>\n",
       "    <tr style=\"text-align: right;\">\n",
       "      <th></th>\n",
       "      <th>area</th>\n",
       "      <th>bhk</th>\n",
       "      <th>bathroom</th>\n",
       "      <th>age</th>\n",
       "      <th>Adambakam</th>\n",
       "      <th>Adyar</th>\n",
       "      <th>Agaramthen</th>\n",
       "      <th>Alandur</th>\n",
       "      <th>Alwarpet</th>\n",
       "      <th>Ambattur</th>\n",
       "      <th>...</th>\n",
       "      <th>Vellakkal</th>\n",
       "      <th>Vengaivasal</th>\n",
       "      <th>Vengambakkam</th>\n",
       "      <th>Veppampatttu</th>\n",
       "      <th>Veppampattu</th>\n",
       "      <th>Villivakkam</th>\n",
       "      <th>Virugambakkam</th>\n",
       "      <th>Washermanpet</th>\n",
       "      <th>West Mambalam</th>\n",
       "      <th>West Tambaram</th>\n",
       "    </tr>\n",
       "  </thead>\n",
       "  <tbody>\n",
       "    <tr>\n",
       "      <th>0</th>\n",
       "      <td>872</td>\n",
       "      <td>2</td>\n",
       "      <td>2.0</td>\n",
       "      <td>1.0</td>\n",
       "      <td>0</td>\n",
       "      <td>0</td>\n",
       "      <td>0</td>\n",
       "      <td>0</td>\n",
       "      <td>0</td>\n",
       "      <td>0</td>\n",
       "      <td>...</td>\n",
       "      <td>0</td>\n",
       "      <td>0</td>\n",
       "      <td>0</td>\n",
       "      <td>0</td>\n",
       "      <td>0</td>\n",
       "      <td>0</td>\n",
       "      <td>0</td>\n",
       "      <td>0</td>\n",
       "      <td>0</td>\n",
       "      <td>0</td>\n",
       "    </tr>\n",
       "    <tr>\n",
       "      <th>1</th>\n",
       "      <td>1346</td>\n",
       "      <td>3</td>\n",
       "      <td>2.0</td>\n",
       "      <td>1.0</td>\n",
       "      <td>0</td>\n",
       "      <td>0</td>\n",
       "      <td>0</td>\n",
       "      <td>0</td>\n",
       "      <td>0</td>\n",
       "      <td>0</td>\n",
       "      <td>...</td>\n",
       "      <td>0</td>\n",
       "      <td>0</td>\n",
       "      <td>0</td>\n",
       "      <td>0</td>\n",
       "      <td>0</td>\n",
       "      <td>0</td>\n",
       "      <td>0</td>\n",
       "      <td>0</td>\n",
       "      <td>0</td>\n",
       "      <td>0</td>\n",
       "    </tr>\n",
       "    <tr>\n",
       "      <th>2</th>\n",
       "      <td>2225</td>\n",
       "      <td>3</td>\n",
       "      <td>2.0</td>\n",
       "      <td>0.0</td>\n",
       "      <td>0</td>\n",
       "      <td>0</td>\n",
       "      <td>0</td>\n",
       "      <td>0</td>\n",
       "      <td>0</td>\n",
       "      <td>0</td>\n",
       "      <td>...</td>\n",
       "      <td>0</td>\n",
       "      <td>0</td>\n",
       "      <td>0</td>\n",
       "      <td>0</td>\n",
       "      <td>0</td>\n",
       "      <td>0</td>\n",
       "      <td>0</td>\n",
       "      <td>0</td>\n",
       "      <td>0</td>\n",
       "      <td>0</td>\n",
       "    </tr>\n",
       "    <tr>\n",
       "      <th>3</th>\n",
       "      <td>1028</td>\n",
       "      <td>2</td>\n",
       "      <td>2.0</td>\n",
       "      <td>3.0</td>\n",
       "      <td>0</td>\n",
       "      <td>0</td>\n",
       "      <td>0</td>\n",
       "      <td>0</td>\n",
       "      <td>0</td>\n",
       "      <td>1</td>\n",
       "      <td>...</td>\n",
       "      <td>0</td>\n",
       "      <td>0</td>\n",
       "      <td>0</td>\n",
       "      <td>0</td>\n",
       "      <td>0</td>\n",
       "      <td>0</td>\n",
       "      <td>0</td>\n",
       "      <td>0</td>\n",
       "      <td>0</td>\n",
       "      <td>0</td>\n",
       "    </tr>\n",
       "    <tr>\n",
       "      <th>4</th>\n",
       "      <td>588</td>\n",
       "      <td>2</td>\n",
       "      <td>1.0</td>\n",
       "      <td>0.0</td>\n",
       "      <td>0</td>\n",
       "      <td>0</td>\n",
       "      <td>0</td>\n",
       "      <td>0</td>\n",
       "      <td>0</td>\n",
       "      <td>0</td>\n",
       "      <td>...</td>\n",
       "      <td>0</td>\n",
       "      <td>0</td>\n",
       "      <td>0</td>\n",
       "      <td>0</td>\n",
       "      <td>0</td>\n",
       "      <td>0</td>\n",
       "      <td>0</td>\n",
       "      <td>0</td>\n",
       "      <td>0</td>\n",
       "      <td>0</td>\n",
       "    </tr>\n",
       "    <tr>\n",
       "      <th>...</th>\n",
       "      <td>...</td>\n",
       "      <td>...</td>\n",
       "      <td>...</td>\n",
       "      <td>...</td>\n",
       "      <td>...</td>\n",
       "      <td>...</td>\n",
       "      <td>...</td>\n",
       "      <td>...</td>\n",
       "      <td>...</td>\n",
       "      <td>...</td>\n",
       "      <td>...</td>\n",
       "      <td>...</td>\n",
       "      <td>...</td>\n",
       "      <td>...</td>\n",
       "      <td>...</td>\n",
       "      <td>...</td>\n",
       "      <td>...</td>\n",
       "      <td>...</td>\n",
       "      <td>...</td>\n",
       "      <td>...</td>\n",
       "      <td>...</td>\n",
       "    </tr>\n",
       "    <tr>\n",
       "      <th>2615</th>\n",
       "      <td>750</td>\n",
       "      <td>2</td>\n",
       "      <td>2.0</td>\n",
       "      <td>3.0</td>\n",
       "      <td>0</td>\n",
       "      <td>0</td>\n",
       "      <td>0</td>\n",
       "      <td>0</td>\n",
       "      <td>0</td>\n",
       "      <td>0</td>\n",
       "      <td>...</td>\n",
       "      <td>0</td>\n",
       "      <td>0</td>\n",
       "      <td>0</td>\n",
       "      <td>0</td>\n",
       "      <td>1</td>\n",
       "      <td>0</td>\n",
       "      <td>0</td>\n",
       "      <td>0</td>\n",
       "      <td>0</td>\n",
       "      <td>0</td>\n",
       "    </tr>\n",
       "    <tr>\n",
       "      <th>2616</th>\n",
       "      <td>750</td>\n",
       "      <td>2</td>\n",
       "      <td>2.0</td>\n",
       "      <td>3.0</td>\n",
       "      <td>0</td>\n",
       "      <td>0</td>\n",
       "      <td>0</td>\n",
       "      <td>0</td>\n",
       "      <td>0</td>\n",
       "      <td>0</td>\n",
       "      <td>...</td>\n",
       "      <td>0</td>\n",
       "      <td>0</td>\n",
       "      <td>0</td>\n",
       "      <td>0</td>\n",
       "      <td>1</td>\n",
       "      <td>0</td>\n",
       "      <td>0</td>\n",
       "      <td>0</td>\n",
       "      <td>0</td>\n",
       "      <td>0</td>\n",
       "    </tr>\n",
       "    <tr>\n",
       "      <th>2617</th>\n",
       "      <td>800</td>\n",
       "      <td>2</td>\n",
       "      <td>2.0</td>\n",
       "      <td>3.0</td>\n",
       "      <td>0</td>\n",
       "      <td>0</td>\n",
       "      <td>0</td>\n",
       "      <td>0</td>\n",
       "      <td>0</td>\n",
       "      <td>0</td>\n",
       "      <td>...</td>\n",
       "      <td>0</td>\n",
       "      <td>0</td>\n",
       "      <td>0</td>\n",
       "      <td>0</td>\n",
       "      <td>1</td>\n",
       "      <td>0</td>\n",
       "      <td>0</td>\n",
       "      <td>0</td>\n",
       "      <td>0</td>\n",
       "      <td>0</td>\n",
       "    </tr>\n",
       "    <tr>\n",
       "      <th>2618</th>\n",
       "      <td>850</td>\n",
       "      <td>2</td>\n",
       "      <td>2.0</td>\n",
       "      <td>3.0</td>\n",
       "      <td>0</td>\n",
       "      <td>0</td>\n",
       "      <td>0</td>\n",
       "      <td>0</td>\n",
       "      <td>0</td>\n",
       "      <td>0</td>\n",
       "      <td>...</td>\n",
       "      <td>0</td>\n",
       "      <td>0</td>\n",
       "      <td>0</td>\n",
       "      <td>0</td>\n",
       "      <td>1</td>\n",
       "      <td>0</td>\n",
       "      <td>0</td>\n",
       "      <td>0</td>\n",
       "      <td>0</td>\n",
       "      <td>0</td>\n",
       "    </tr>\n",
       "    <tr>\n",
       "      <th>2619</th>\n",
       "      <td>900</td>\n",
       "      <td>2</td>\n",
       "      <td>2.0</td>\n",
       "      <td>3.0</td>\n",
       "      <td>0</td>\n",
       "      <td>0</td>\n",
       "      <td>0</td>\n",
       "      <td>0</td>\n",
       "      <td>0</td>\n",
       "      <td>0</td>\n",
       "      <td>...</td>\n",
       "      <td>0</td>\n",
       "      <td>0</td>\n",
       "      <td>0</td>\n",
       "      <td>0</td>\n",
       "      <td>1</td>\n",
       "      <td>0</td>\n",
       "      <td>0</td>\n",
       "      <td>0</td>\n",
       "      <td>0</td>\n",
       "      <td>0</td>\n",
       "    </tr>\n",
       "  </tbody>\n",
       "</table>\n",
       "<p>2620 rows × 181 columns</p>\n",
       "</div>"
      ],
      "text/plain": [
       "      area  bhk  bathroom  age  Adambakam  Adyar  Agaramthen  Alandur  \\\n",
       "0      872    2       2.0  1.0          0      0           0        0   \n",
       "1     1346    3       2.0  1.0          0      0           0        0   \n",
       "2     2225    3       2.0  0.0          0      0           0        0   \n",
       "3     1028    2       2.0  3.0          0      0           0        0   \n",
       "4      588    2       1.0  0.0          0      0           0        0   \n",
       "...    ...  ...       ...  ...        ...    ...         ...      ...   \n",
       "2615   750    2       2.0  3.0          0      0           0        0   \n",
       "2616   750    2       2.0  3.0          0      0           0        0   \n",
       "2617   800    2       2.0  3.0          0      0           0        0   \n",
       "2618   850    2       2.0  3.0          0      0           0        0   \n",
       "2619   900    2       2.0  3.0          0      0           0        0   \n",
       "\n",
       "      Alwarpet  Ambattur  ...  Vellakkal  Vengaivasal  Vengambakkam  \\\n",
       "0            0         0  ...          0            0             0   \n",
       "1            0         0  ...          0            0             0   \n",
       "2            0         0  ...          0            0             0   \n",
       "3            0         1  ...          0            0             0   \n",
       "4            0         0  ...          0            0             0   \n",
       "...        ...       ...  ...        ...          ...           ...   \n",
       "2615         0         0  ...          0            0             0   \n",
       "2616         0         0  ...          0            0             0   \n",
       "2617         0         0  ...          0            0             0   \n",
       "2618         0         0  ...          0            0             0   \n",
       "2619         0         0  ...          0            0             0   \n",
       "\n",
       "      Veppampatttu  Veppampattu  Villivakkam  Virugambakkam  Washermanpet  \\\n",
       "0                0            0            0              0             0   \n",
       "1                0            0            0              0             0   \n",
       "2                0            0            0              0             0   \n",
       "3                0            0            0              0             0   \n",
       "4                0            0            0              0             0   \n",
       "...            ...          ...          ...            ...           ...   \n",
       "2615             0            1            0              0             0   \n",
       "2616             0            1            0              0             0   \n",
       "2617             0            1            0              0             0   \n",
       "2618             0            1            0              0             0   \n",
       "2619             0            1            0              0             0   \n",
       "\n",
       "      West Mambalam  West Tambaram  \n",
       "0                 0              0  \n",
       "1                 0              0  \n",
       "2                 0              0  \n",
       "3                 0              0  \n",
       "4                 0              0  \n",
       "...             ...            ...  \n",
       "2615              0              0  \n",
       "2616              0              0  \n",
       "2617              0              0  \n",
       "2618              0              0  \n",
       "2619              0              0  \n",
       "\n",
       "[2620 rows x 181 columns]"
      ]
     },
     "execution_count": 37,
     "metadata": {},
     "output_type": "execute_result"
    }
   ],
   "source": [
    "final"
   ]
  },
  {
   "cell_type": "code",
   "execution_count": 38,
   "id": "a4fd1ccb",
   "metadata": {},
   "outputs": [],
   "source": [
    "from sklearn.model_selection import train_test_split\n",
    "x_train,x_test,y_train,y_test=train_test_split(final,p,test_size=0.2)"
   ]
  },
  {
   "cell_type": "code",
   "execution_count": 39,
   "id": "33b5f972",
   "metadata": {},
   "outputs": [
    {
     "data": {
      "text/plain": [
       "2096"
      ]
     },
     "execution_count": 39,
     "metadata": {},
     "output_type": "execute_result"
    }
   ],
   "source": [
    "len(x_train)"
   ]
  },
  {
   "cell_type": "code",
   "execution_count": 40,
   "id": "22d86ed1",
   "metadata": {},
   "outputs": [
    {
     "data": {
      "text/plain": [
       "524"
      ]
     },
     "execution_count": 40,
     "metadata": {},
     "output_type": "execute_result"
    }
   ],
   "source": [
    "len(x_test)"
   ]
  },
  {
   "cell_type": "code",
   "execution_count": 41,
   "id": "5007bbdd",
   "metadata": {},
   "outputs": [],
   "source": [
    "from sklearn.model_selection import cross_val_score"
   ]
  },
  {
   "cell_type": "code",
   "execution_count": 42,
   "id": "b8d3cf4b",
   "metadata": {},
   "outputs": [],
   "source": [
    "from sklearn.linear_model import LinearRegression\n",
    "from sklearn.linear_model import Lasso\n",
    "from sklearn.linear_model import Ridge"
   ]
  },
  {
   "cell_type": "code",
   "execution_count": 43,
   "id": "d8489810",
   "metadata": {},
   "outputs": [
    {
     "data": {
      "text/plain": [
       "-111318860460596.89"
      ]
     },
     "execution_count": 43,
     "metadata": {},
     "output_type": "execute_result"
    }
   ],
   "source": [
    "m=LinearRegression()\n",
    "m.fit(x_train,y_train)\n",
    "m.score(x_test,y_test)"
   ]
  },
  {
   "cell_type": "code",
   "execution_count": 44,
   "id": "43e96552",
   "metadata": {},
   "outputs": [
    {
     "data": {
      "text/plain": [
       "0.8772641898297222"
      ]
     },
     "execution_count": 44,
     "metadata": {},
     "output_type": "execute_result"
    }
   ],
   "source": [
    "s2=cross_val_score(Ridge(),x_train,y_train,cv=5)\n",
    "sum(s2)/len(s2)"
   ]
  },
  {
   "cell_type": "code",
   "execution_count": 45,
   "id": "c3e0a588",
   "metadata": {},
   "outputs": [
    {
     "data": {
      "text/plain": [
       "0.581763918414102"
      ]
     },
     "execution_count": 45,
     "metadata": {},
     "output_type": "execute_result"
    }
   ],
   "source": [
    "s1=cross_val_score(Lasso(),final,p,cv=5)\n",
    "sum(s1)/len(s1)"
   ]
  },
  {
   "cell_type": "code",
   "execution_count": 46,
   "id": "010dadf1",
   "metadata": {},
   "outputs": [
    {
     "data": {
      "text/plain": [
       "Index(['area', 'bhk', 'bathroom', 'age', 'Adambakam', 'Adyar', 'Agaramthen',\n",
       "       'Alandur', 'Alwarpet', 'Ambattur',\n",
       "       ...\n",
       "       'Vellakkal', 'Vengaivasal', 'Vengambakkam', 'Veppampatttu',\n",
       "       'Veppampattu', 'Villivakkam', 'Virugambakkam', 'Washermanpet',\n",
       "       'West Mambalam', 'West Tambaram'],\n",
       "      dtype='object', length=181)"
      ]
     },
     "execution_count": 46,
     "metadata": {},
     "output_type": "execute_result"
    }
   ],
   "source": [
    "final.columns"
   ]
  },
  {
   "cell_type": "code",
   "execution_count": 47,
   "id": "22a02f37",
   "metadata": {},
   "outputs": [
    {
     "data": {
      "text/plain": [
       "LinearRegression()"
      ]
     },
     "execution_count": 47,
     "metadata": {},
     "output_type": "execute_result"
    }
   ],
   "source": [
    "model=LinearRegression()\n",
    "model.fit(final,p)"
   ]
  },
  {
   "cell_type": "code",
   "execution_count": 48,
   "id": "cd4e57d6",
   "metadata": {
    "scrolled": true
   },
   "outputs": [
    {
     "data": {
      "text/html": [
       "<div>\n",
       "<style scoped>\n",
       "    .dataframe tbody tr th:only-of-type {\n",
       "        vertical-align: middle;\n",
       "    }\n",
       "\n",
       "    .dataframe tbody tr th {\n",
       "        vertical-align: top;\n",
       "    }\n",
       "\n",
       "    .dataframe thead th {\n",
       "        text-align: right;\n",
       "    }\n",
       "</style>\n",
       "<table border=\"1\" class=\"dataframe\">\n",
       "  <thead>\n",
       "    <tr style=\"text-align: right;\">\n",
       "      <th></th>\n",
       "      <th>area</th>\n",
       "      <th>bhk</th>\n",
       "      <th>bathroom</th>\n",
       "      <th>age</th>\n",
       "      <th>Adambakam</th>\n",
       "      <th>Adyar</th>\n",
       "      <th>Agaramthen</th>\n",
       "      <th>Alandur</th>\n",
       "      <th>Alwarpet</th>\n",
       "      <th>Ambattur</th>\n",
       "      <th>...</th>\n",
       "      <th>Vellakkal</th>\n",
       "      <th>Vengaivasal</th>\n",
       "      <th>Vengambakkam</th>\n",
       "      <th>Veppampatttu</th>\n",
       "      <th>Veppampattu</th>\n",
       "      <th>Villivakkam</th>\n",
       "      <th>Virugambakkam</th>\n",
       "      <th>Washermanpet</th>\n",
       "      <th>West Mambalam</th>\n",
       "      <th>West Tambaram</th>\n",
       "    </tr>\n",
       "  </thead>\n",
       "  <tbody>\n",
       "    <tr>\n",
       "      <th>0</th>\n",
       "      <td>872</td>\n",
       "      <td>2</td>\n",
       "      <td>2.0</td>\n",
       "      <td>1.0</td>\n",
       "      <td>0</td>\n",
       "      <td>0</td>\n",
       "      <td>0</td>\n",
       "      <td>0</td>\n",
       "      <td>0</td>\n",
       "      <td>0</td>\n",
       "      <td>...</td>\n",
       "      <td>0</td>\n",
       "      <td>0</td>\n",
       "      <td>0</td>\n",
       "      <td>0</td>\n",
       "      <td>0</td>\n",
       "      <td>0</td>\n",
       "      <td>0</td>\n",
       "      <td>0</td>\n",
       "      <td>0</td>\n",
       "      <td>0</td>\n",
       "    </tr>\n",
       "    <tr>\n",
       "      <th>1</th>\n",
       "      <td>1346</td>\n",
       "      <td>3</td>\n",
       "      <td>2.0</td>\n",
       "      <td>1.0</td>\n",
       "      <td>0</td>\n",
       "      <td>0</td>\n",
       "      <td>0</td>\n",
       "      <td>0</td>\n",
       "      <td>0</td>\n",
       "      <td>0</td>\n",
       "      <td>...</td>\n",
       "      <td>0</td>\n",
       "      <td>0</td>\n",
       "      <td>0</td>\n",
       "      <td>0</td>\n",
       "      <td>0</td>\n",
       "      <td>0</td>\n",
       "      <td>0</td>\n",
       "      <td>0</td>\n",
       "      <td>0</td>\n",
       "      <td>0</td>\n",
       "    </tr>\n",
       "    <tr>\n",
       "      <th>2</th>\n",
       "      <td>2225</td>\n",
       "      <td>3</td>\n",
       "      <td>2.0</td>\n",
       "      <td>0.0</td>\n",
       "      <td>0</td>\n",
       "      <td>0</td>\n",
       "      <td>0</td>\n",
       "      <td>0</td>\n",
       "      <td>0</td>\n",
       "      <td>0</td>\n",
       "      <td>...</td>\n",
       "      <td>0</td>\n",
       "      <td>0</td>\n",
       "      <td>0</td>\n",
       "      <td>0</td>\n",
       "      <td>0</td>\n",
       "      <td>0</td>\n",
       "      <td>0</td>\n",
       "      <td>0</td>\n",
       "      <td>0</td>\n",
       "      <td>0</td>\n",
       "    </tr>\n",
       "    <tr>\n",
       "      <th>3</th>\n",
       "      <td>1028</td>\n",
       "      <td>2</td>\n",
       "      <td>2.0</td>\n",
       "      <td>3.0</td>\n",
       "      <td>0</td>\n",
       "      <td>0</td>\n",
       "      <td>0</td>\n",
       "      <td>0</td>\n",
       "      <td>0</td>\n",
       "      <td>1</td>\n",
       "      <td>...</td>\n",
       "      <td>0</td>\n",
       "      <td>0</td>\n",
       "      <td>0</td>\n",
       "      <td>0</td>\n",
       "      <td>0</td>\n",
       "      <td>0</td>\n",
       "      <td>0</td>\n",
       "      <td>0</td>\n",
       "      <td>0</td>\n",
       "      <td>0</td>\n",
       "    </tr>\n",
       "    <tr>\n",
       "      <th>4</th>\n",
       "      <td>588</td>\n",
       "      <td>2</td>\n",
       "      <td>1.0</td>\n",
       "      <td>0.0</td>\n",
       "      <td>0</td>\n",
       "      <td>0</td>\n",
       "      <td>0</td>\n",
       "      <td>0</td>\n",
       "      <td>0</td>\n",
       "      <td>0</td>\n",
       "      <td>...</td>\n",
       "      <td>0</td>\n",
       "      <td>0</td>\n",
       "      <td>0</td>\n",
       "      <td>0</td>\n",
       "      <td>0</td>\n",
       "      <td>0</td>\n",
       "      <td>0</td>\n",
       "      <td>0</td>\n",
       "      <td>0</td>\n",
       "      <td>0</td>\n",
       "    </tr>\n",
       "    <tr>\n",
       "      <th>...</th>\n",
       "      <td>...</td>\n",
       "      <td>...</td>\n",
       "      <td>...</td>\n",
       "      <td>...</td>\n",
       "      <td>...</td>\n",
       "      <td>...</td>\n",
       "      <td>...</td>\n",
       "      <td>...</td>\n",
       "      <td>...</td>\n",
       "      <td>...</td>\n",
       "      <td>...</td>\n",
       "      <td>...</td>\n",
       "      <td>...</td>\n",
       "      <td>...</td>\n",
       "      <td>...</td>\n",
       "      <td>...</td>\n",
       "      <td>...</td>\n",
       "      <td>...</td>\n",
       "      <td>...</td>\n",
       "      <td>...</td>\n",
       "      <td>...</td>\n",
       "    </tr>\n",
       "    <tr>\n",
       "      <th>2615</th>\n",
       "      <td>750</td>\n",
       "      <td>2</td>\n",
       "      <td>2.0</td>\n",
       "      <td>3.0</td>\n",
       "      <td>0</td>\n",
       "      <td>0</td>\n",
       "      <td>0</td>\n",
       "      <td>0</td>\n",
       "      <td>0</td>\n",
       "      <td>0</td>\n",
       "      <td>...</td>\n",
       "      <td>0</td>\n",
       "      <td>0</td>\n",
       "      <td>0</td>\n",
       "      <td>0</td>\n",
       "      <td>1</td>\n",
       "      <td>0</td>\n",
       "      <td>0</td>\n",
       "      <td>0</td>\n",
       "      <td>0</td>\n",
       "      <td>0</td>\n",
       "    </tr>\n",
       "    <tr>\n",
       "      <th>2616</th>\n",
       "      <td>750</td>\n",
       "      <td>2</td>\n",
       "      <td>2.0</td>\n",
       "      <td>3.0</td>\n",
       "      <td>0</td>\n",
       "      <td>0</td>\n",
       "      <td>0</td>\n",
       "      <td>0</td>\n",
       "      <td>0</td>\n",
       "      <td>0</td>\n",
       "      <td>...</td>\n",
       "      <td>0</td>\n",
       "      <td>0</td>\n",
       "      <td>0</td>\n",
       "      <td>0</td>\n",
       "      <td>1</td>\n",
       "      <td>0</td>\n",
       "      <td>0</td>\n",
       "      <td>0</td>\n",
       "      <td>0</td>\n",
       "      <td>0</td>\n",
       "    </tr>\n",
       "    <tr>\n",
       "      <th>2617</th>\n",
       "      <td>800</td>\n",
       "      <td>2</td>\n",
       "      <td>2.0</td>\n",
       "      <td>3.0</td>\n",
       "      <td>0</td>\n",
       "      <td>0</td>\n",
       "      <td>0</td>\n",
       "      <td>0</td>\n",
       "      <td>0</td>\n",
       "      <td>0</td>\n",
       "      <td>...</td>\n",
       "      <td>0</td>\n",
       "      <td>0</td>\n",
       "      <td>0</td>\n",
       "      <td>0</td>\n",
       "      <td>1</td>\n",
       "      <td>0</td>\n",
       "      <td>0</td>\n",
       "      <td>0</td>\n",
       "      <td>0</td>\n",
       "      <td>0</td>\n",
       "    </tr>\n",
       "    <tr>\n",
       "      <th>2618</th>\n",
       "      <td>850</td>\n",
       "      <td>2</td>\n",
       "      <td>2.0</td>\n",
       "      <td>3.0</td>\n",
       "      <td>0</td>\n",
       "      <td>0</td>\n",
       "      <td>0</td>\n",
       "      <td>0</td>\n",
       "      <td>0</td>\n",
       "      <td>0</td>\n",
       "      <td>...</td>\n",
       "      <td>0</td>\n",
       "      <td>0</td>\n",
       "      <td>0</td>\n",
       "      <td>0</td>\n",
       "      <td>1</td>\n",
       "      <td>0</td>\n",
       "      <td>0</td>\n",
       "      <td>0</td>\n",
       "      <td>0</td>\n",
       "      <td>0</td>\n",
       "    </tr>\n",
       "    <tr>\n",
       "      <th>2619</th>\n",
       "      <td>900</td>\n",
       "      <td>2</td>\n",
       "      <td>2.0</td>\n",
       "      <td>3.0</td>\n",
       "      <td>0</td>\n",
       "      <td>0</td>\n",
       "      <td>0</td>\n",
       "      <td>0</td>\n",
       "      <td>0</td>\n",
       "      <td>0</td>\n",
       "      <td>...</td>\n",
       "      <td>0</td>\n",
       "      <td>0</td>\n",
       "      <td>0</td>\n",
       "      <td>0</td>\n",
       "      <td>1</td>\n",
       "      <td>0</td>\n",
       "      <td>0</td>\n",
       "      <td>0</td>\n",
       "      <td>0</td>\n",
       "      <td>0</td>\n",
       "    </tr>\n",
       "  </tbody>\n",
       "</table>\n",
       "<p>2620 rows × 181 columns</p>\n",
       "</div>"
      ],
      "text/plain": [
       "      area  bhk  bathroom  age  Adambakam  Adyar  Agaramthen  Alandur  \\\n",
       "0      872    2       2.0  1.0          0      0           0        0   \n",
       "1     1346    3       2.0  1.0          0      0           0        0   \n",
       "2     2225    3       2.0  0.0          0      0           0        0   \n",
       "3     1028    2       2.0  3.0          0      0           0        0   \n",
       "4      588    2       1.0  0.0          0      0           0        0   \n",
       "...    ...  ...       ...  ...        ...    ...         ...      ...   \n",
       "2615   750    2       2.0  3.0          0      0           0        0   \n",
       "2616   750    2       2.0  3.0          0      0           0        0   \n",
       "2617   800    2       2.0  3.0          0      0           0        0   \n",
       "2618   850    2       2.0  3.0          0      0           0        0   \n",
       "2619   900    2       2.0  3.0          0      0           0        0   \n",
       "\n",
       "      Alwarpet  Ambattur  ...  Vellakkal  Vengaivasal  Vengambakkam  \\\n",
       "0            0         0  ...          0            0             0   \n",
       "1            0         0  ...          0            0             0   \n",
       "2            0         0  ...          0            0             0   \n",
       "3            0         1  ...          0            0             0   \n",
       "4            0         0  ...          0            0             0   \n",
       "...        ...       ...  ...        ...          ...           ...   \n",
       "2615         0         0  ...          0            0             0   \n",
       "2616         0         0  ...          0            0             0   \n",
       "2617         0         0  ...          0            0             0   \n",
       "2618         0         0  ...          0            0             0   \n",
       "2619         0         0  ...          0            0             0   \n",
       "\n",
       "      Veppampatttu  Veppampattu  Villivakkam  Virugambakkam  Washermanpet  \\\n",
       "0                0            0            0              0             0   \n",
       "1                0            0            0              0             0   \n",
       "2                0            0            0              0             0   \n",
       "3                0            0            0              0             0   \n",
       "4                0            0            0              0             0   \n",
       "...            ...          ...          ...            ...           ...   \n",
       "2615             0            1            0              0             0   \n",
       "2616             0            1            0              0             0   \n",
       "2617             0            1            0              0             0   \n",
       "2618             0            1            0              0             0   \n",
       "2619             0            1            0              0             0   \n",
       "\n",
       "      West Mambalam  West Tambaram  \n",
       "0                 0              0  \n",
       "1                 0              0  \n",
       "2                 0              0  \n",
       "3                 0              0  \n",
       "4                 0              0  \n",
       "...             ...            ...  \n",
       "2615              0              0  \n",
       "2616              0              0  \n",
       "2617              0              0  \n",
       "2618              0              0  \n",
       "2619              0              0  \n",
       "\n",
       "[2620 rows x 181 columns]"
      ]
     },
     "execution_count": 48,
     "metadata": {},
     "output_type": "execute_result"
    }
   ],
   "source": [
    "final"
   ]
  },
  {
   "cell_type": "code",
   "execution_count": 49,
   "id": "27420a4c",
   "metadata": {},
   "outputs": [],
   "source": [
    "def predict_func(location,area,bhk,bath,age):\n",
    "    try:\n",
    "        loc_ind=np.where(final.columns==location)[0][0]\n",
    "    except:\n",
    "        loc_ind=-1\n",
    "    p=np.zeros(len(final.columns))\n",
    "    p[0]=area\n",
    "    p[1]=bhk\n",
    "    p[2]=bath\n",
    "    p[3]=age\n",
    "    if(loc_ind>=0):\n",
    "        p[loc_ind]=1;\n",
    "    return model.predict([p])[0]"
   ]
  },
  {
   "cell_type": "code",
   "execution_count": 50,
   "id": "74a8599b",
   "metadata": {},
   "outputs": [
    {
     "data": {
      "text/plain": [
       "76.39110946655273"
      ]
     },
     "execution_count": 50,
     "metadata": {},
     "output_type": "execute_result"
    }
   ],
   "source": [
    "predict_func('Adambakam',900,2,1,2)"
   ]
  },
  {
   "cell_type": "code",
   "execution_count": 56,
   "id": "cc0de5b6",
   "metadata": {},
   "outputs": [
    {
     "data": {
      "text/plain": [
       "99.99999618530273"
      ]
     },
     "execution_count": 56,
     "metadata": {},
     "output_type": "execute_result"
    }
   ],
   "source": [
    "predict_func('Washermanpet',1400,3,3,3)"
   ]
  },
  {
   "cell_type": "code",
   "execution_count": 52,
   "id": "d3ec95eb",
   "metadata": {},
   "outputs": [
    {
     "data": {
      "text/plain": [
       "63.38694381713867"
      ]
     },
     "execution_count": 52,
     "metadata": {},
     "output_type": "execute_result"
    }
   ],
   "source": [
    "predict_func('Pammal',1000,2,2,1)"
   ]
  },
  {
   "cell_type": "code",
   "execution_count": 53,
   "id": "5f39e9f0",
   "metadata": {},
   "outputs": [
    {
     "data": {
      "text/plain": [
       "0.9402443003087222"
      ]
     },
     "execution_count": 53,
     "metadata": {},
     "output_type": "execute_result"
    }
   ],
   "source": [
    "model.score(x_test,y_test)"
   ]
  },
  {
   "cell_type": "code",
   "execution_count": 57,
   "id": "b89525ad",
   "metadata": {},
   "outputs": [],
   "source": [
    "import pickle\n",
    "with open('chennai_prediction_model.pickle','wb') as f:\n",
    "    pickle.dump(model,f)"
   ]
  },
  {
   "cell_type": "code",
   "execution_count": 58,
   "id": "a4245e19",
   "metadata": {},
   "outputs": [],
   "source": [
    "import json\n",
    "columns={\n",
    "    'data_columns':[col.lower() for col in final.columns]\n",
    "}\n",
    "with open('column.json','w') as f1:\n",
    "    f1.write(json.dumps(columns))"
   ]
  },
  {
   "cell_type": "code",
   "execution_count": null,
   "id": "264529ee",
   "metadata": {},
   "outputs": [],
   "source": []
  },
  {
   "cell_type": "code",
   "execution_count": null,
   "id": "1fb0f538",
   "metadata": {},
   "outputs": [],
   "source": []
  }
 ],
 "metadata": {
  "kernelspec": {
   "display_name": "Python 3",
   "language": "python",
   "name": "python3"
  },
  "language_info": {
   "codemirror_mode": {
    "name": "ipython",
    "version": 3
   },
   "file_extension": ".py",
   "mimetype": "text/x-python",
   "name": "python",
   "nbconvert_exporter": "python",
   "pygments_lexer": "ipython3",
   "version": "3.8.8"
  }
 },
 "nbformat": 4,
 "nbformat_minor": 5
}
